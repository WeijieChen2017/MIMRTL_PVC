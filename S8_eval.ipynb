{
 "cells": [
  {
   "cell_type": "code",
   "execution_count": 2,
   "metadata": {},
   "outputs": [
    {
     "name": "stderr",
     "output_type": "stream",
     "text": [
      "usage: ipykernel_launcher.py [-h] [--nameDataset] [--dataFolder]\n",
      "ipykernel_launcher.py: error: unrecognized arguments: -f /Users/convez/Library/Jupyter/runtime/kernel-731dabf5-8d02-4773-94e9-a9a366e6d8d9.json\n"
     ]
    },
    {
     "ename": "SystemExit",
     "evalue": "2",
     "output_type": "error",
     "traceback": [
      "An exception has occurred, use %tb to see the full traceback.\n",
      "\u001b[0;31mSystemExit\u001b[0m\u001b[0;31m:\u001b[0m 2\n"
     ]
    },
    {
     "name": "stderr",
     "output_type": "stream",
     "text": [
      "/Users/convez/.conda/envs/pytorch/lib/python3.7/site-packages/IPython/core/interactiveshell.py:3425: UserWarning: To exit: use 'exit', 'quit', or Ctrl-D.\n",
      "  warn(\"To exit: use 'exit', 'quit', or Ctrl-D.\", stacklevel=1)\n"
     ]
    }
   ],
   "source": [
    "import os\n",
    "import glob\n",
    "import argparse\n",
    "import pandas as pd\n",
    "import numpy as np\n",
    "import nibabel as nib\n",
    "import xlwt\n",
    "from skimage.metrics import normalized_root_mse, peak_signal_noise_ratio, structural_similarity\n",
    "\n",
    "def main():\n",
    "    parser = argparse.ArgumentParser(\n",
    "        description='''This is a beta script for Partial Volume Correction in PET/MRI system. ''',\n",
    "        epilog=\"\"\"All's well that ends well.\"\"\")\n",
    "\n",
    "    parser.add_argument('--nameDataset', metavar='', type=str, default=\"sk8R\",\n",
    "                        help='Name for the dataset needed to be reverse.(sk8R)<str>')\n",
    "    parser.add_argument('--dataFolder', metavar='', type=str, default=\"pMix\",\n",
    "                        help='Folder of testing dataset.(unet)<str>')\n",
    "\n",
    "    args = parser.parse_args()\n",
    "    name_dataset = args.nameDataset\n",
    "    data_folder = args.dataFolder\n",
    "\n",
    "    print(\"name_dataset=\", name_dataset)\n",
    "    print(\"data_folder=\", data_folder)\n",
    "\n",
    "    assemble_results(name_dataset=name_dataset, data_folder=data_folder,\n",
    "                     output_chan=output_chan, resize_f=resize_f)\n",
    "\n",
    "\n",
    "def eval_results(name_dataset=\"sk8R\", data_folder=\"pMix\"):\n",
    "    recon_list = glob.glob(\"./data/\"+data_folder+\"/recon/*.nii\")\n",
    "recon_list.sort()\n",
    "metric_xls = xlwt.Workbook()\n",
    "\n",
    "metric_tab_eval = metric_xls.add_sheet(\"eval\")\n",
    "metric_tab_eval.write(0, 1, \"NRMSE\")\n",
    "metric_tab_eval.write(0, 2, \"PSNR\")\n",
    "metric_tab_eval.write(0, 3, \"SSIM\")\n",
    "\n",
    "for idx_p, recon_path in enumerate(recon_list):\n",
    "    recon_name = os.path.basename(recon_path)\n",
    "    gt_name = recon_name[:-len(name_dataset)-13]+\"rec.nii\"\n",
    "    gt_path = \"./data/\"+data_folder+\"/gt/\"+gt_name\n",
    "    metric_tab = metric_xls.add_sheet(gt_name[17:20])\n",
    "    metric_tab_eval.write(idx_p+1, 0, gt_name[17:20])\n",
    "    \n",
    "    print(\"-------------------------------------\")\n",
    "    print(gt_name)\n",
    "    \n",
    "    recon_nii = nib.load(recon_path)\n",
    "    gt_nii = nib.load(gt_path)\n",
    "    \n",
    "    recon_data = recon_nii.get_fdata()\n",
    "    gt_data = gt_nii.get_fdata()\n",
    "    \n",
    "    dx, dy, dz = recon_data.shape\n",
    "    \n",
    "    metric_methods_hub = [normalized_root_mse, peak_signal_noise_ratio, structural_similarity]\n",
    "#     metric_table = np.zeros((len(metric_methods_hub), dz))\n",
    "    metric_tab.write(0, 1, \"NRMSE\")\n",
    "    metric_tab.write(0, 2, \"PSNR\")\n",
    "    metric_tab.write(0, 3, \"SSIM\")\n",
    "    \n",
    "    for idx_z in range(dz):\n",
    "        metric_tab.write(idx_z+1, 0, idx_z+1)\n",
    "    for idx_m, metric_method in enumerate(metric_methods_hub):\n",
    "        qualified_metric = []\n",
    "        for idx_z in range(dz):\n",
    "            im_true = gt_data[:, :, idx_z]\n",
    "            im_test = recon_data[:, :, idx_z]\n",
    "#             metric_table[idx_m, idx_z] = metric_method(im_true, im_test)\n",
    "            if np.mean(im_true) > 1e-3:\n",
    "                current_metric = metric_method(im_true, im_test)\n",
    "                qualified_metric.append(current_metric)\n",
    "                metric_tab.write(idx_z+1, idx_m+1, current_metric)\n",
    "        qualified_metric = np.asarray(qualified_metric)\n",
    "        metric_tab_eval.write(idx_p+1, idx_m+1, np.mean(qualified_metric))\n",
    "    metric_xls.save(\"M-\"+name_dataset+\"+D-\"+data_folder+\".xls\")\n",
    "    print(\"------------------------------------------------------------\")\n",
    "    print(\"----------------------Finished------------------------------\")\n",
    "    print(\"------------------------------------------------------------\")\n",
    "\n",
    "\n",
    "if __name__ == \"__main__\":\n",
    "    main()"
   ]
  },
  {
   "cell_type": "code",
   "execution_count": 1,
   "metadata": {},
   "outputs": [],
   "source": [
    "data_folder = \"BraTS\"\n",
    "name_dataset = \"BraTS_DA5\""
   ]
  },
  {
   "cell_type": "code",
   "execution_count": 3,
   "metadata": {},
   "outputs": [],
   "source": []
  },
  {
   "cell_type": "code",
   "execution_count": 16,
   "metadata": {},
   "outputs": [
    {
     "name": "stdout",
     "output_type": "stream",
     "text": [
      "-------------------------------------\n",
      "BraTS20_Training_030_t1_inv1_rec.nii\n",
      "-------------------------------------\n",
      "BraTS20_Training_031_t1_inv1_rec.nii\n",
      "-------------------------------------\n",
      "BraTS20_Training_032_t1_inv1_rec.nii\n",
      "-------------------------------------\n",
      "BraTS20_Training_033_t1_inv1_rec.nii\n",
      "-------------------------------------\n",
      "BraTS20_Training_034_t1_inv1_rec.nii\n",
      "-------------------------------------\n",
      "BraTS20_Training_035_t1_inv1_rec.nii\n",
      "-------------------------------------\n",
      "BraTS20_Training_036_t1_inv1_rec.nii\n",
      "-------------------------------------\n",
      "BraTS20_Training_037_t1_inv1_rec.nii\n",
      "-------------------------------------\n",
      "BraTS20_Training_038_t1_inv1_rec.nii\n",
      "-------------------------------------\n",
      "BraTS20_Training_039_t1_inv1_rec.nii\n"
     ]
    }
   ],
   "source": [
    "recon_list = glob.glob(\"./data/\"+data_folder+\"/recon/*.nii\")\n",
    "recon_list.sort()\n",
    "metric_xls = xlwt.Workbook()\n",
    "\n",
    "metric_tab_eval = metric_xls.add_sheet(\"eval\")\n",
    "metric_tab_eval.write(0, 1, \"NRMSE\")\n",
    "metric_tab_eval.write(0, 2, \"PSNR\")\n",
    "metric_tab_eval.write(0, 3, \"SSIM\")\n",
    "\n",
    "for idx_p, recon_path in enumerate(recon_list):\n",
    "    recon_name = os.path.basename(recon_path)\n",
    "    gt_name = recon_name[:-len(name_dataset)-13]+\"rec.nii\"\n",
    "    gt_path = \"./data/\"+data_folder+\"/gt/\"+gt_name\n",
    "    metric_tab = metric_xls.add_sheet(gt_name[17:20])\n",
    "    metric_tab_eval.write(idx_p+1, 0, gt_name[17:20])\n",
    "    \n",
    "    print(\"-------------------------------------\")\n",
    "    print(gt_name)\n",
    "    \n",
    "    recon_nii = nib.load(recon_path)\n",
    "    gt_nii = nib.load(gt_path)\n",
    "    \n",
    "    recon_data = recon_nii.get_fdata()\n",
    "    gt_data = gt_nii.get_fdata()\n",
    "    \n",
    "    dx, dy, dz = recon_data.shape\n",
    "    \n",
    "    metric_methods_hub = [normalized_root_mse, peak_signal_noise_ratio, structural_similarity]\n",
    "#     metric_table = np.zeros((len(metric_methods_hub), dz))\n",
    "    metric_tab.write(0, 1, \"NRMSE\")\n",
    "    metric_tab.write(0, 2, \"PSNR\")\n",
    "    metric_tab.write(0, 3, \"SSIM\")\n",
    "    \n",
    "    for idx_z in range(dz):\n",
    "        metric_tab.write(idx_z+1, 0, idx_z+1)\n",
    "    for idx_m, metric_method in enumerate(metric_methods_hub):\n",
    "        qualified_metric = []\n",
    "        for idx_z in range(dz):\n",
    "            im_true = gt_data[:, :, idx_z]\n",
    "            im_test = recon_data[:, :, idx_z]\n",
    "#             metric_table[idx_m, idx_z] = metric_method(im_true, im_test)\n",
    "            if np.mean(im_true) > 1e-3:\n",
    "                current_metric = metric_method(im_true, im_test)\n",
    "                qualified_metric.append(current_metric)\n",
    "                metric_tab.write(idx_z+1, idx_m+1, current_metric)\n",
    "        qualified_metric = np.asarray(qualified_metric)\n",
    "        metric_tab_eval.write(idx_p+1, idx_m+1, np.mean(qualified_metric))\n",
    "metric_xls.save(\"M-\"+name_dataset+\"+D-\"+data_folder+\".xls\")"
   ]
  },
  {
   "cell_type": "code",
   "execution_count": null,
   "metadata": {},
   "outputs": [],
   "source": []
  },
  {
   "cell_type": "code",
   "execution_count": null,
   "metadata": {},
   "outputs": [],
   "source": []
  },
  {
   "cell_type": "code",
   "execution_count": null,
   "metadata": {},
   "outputs": [],
   "source": []
  }
 ],
 "metadata": {
  "kernelspec": {
   "display_name": "Python 3",
   "language": "python",
   "name": "python3"
  },
  "language_info": {
   "codemirror_mode": {
    "name": "ipython",
    "version": 3
   },
   "file_extension": ".py",
   "mimetype": "text/x-python",
   "name": "python",
   "nbconvert_exporter": "python",
   "pygments_lexer": "ipython3",
   "version": "3.7.7"
  }
 },
 "nbformat": 4,
 "nbformat_minor": 4
}
